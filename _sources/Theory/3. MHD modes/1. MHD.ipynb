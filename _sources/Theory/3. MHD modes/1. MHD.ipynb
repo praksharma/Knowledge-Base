{
 "cells": [
  {
   "cell_type": "markdown",
   "metadata": {},
   "source": [
    "# Magnetohydrodynamic (MHD) modes\n",
    "Magnetohydrodynamics (MHD) is the study of how a conducting fluid (plasma) interacts with magnetic fields.\n",
    "\n",
    "\n",
    "\n",
    "In MHD, plasma behavior is decomposed into eigenmodes, which represent different instability structures or wave patterns.\n",
    "\n",
    "```{warning}\n",
    "Not to be confused with [MHD wave modes](https://en.wikipedia.org/wiki/Magnetohydrodynamics#Waves) are linear perturbations that propagate in a magnetized plasma. However they have a common mode called **Alfvén wave**.\n",
    "```\n",
    "\n",
    "## MHD instabilities\n",
    "MHD instabilities are large-scale deformations that grows over time resulting in degraded performance or lead to disruptions. They are derived from the nonlinear MHD equations and often lead to plasma disruptions.\n",
    "\n",
    "## Analogy with singular value decomposition\n",
    "In SVD, a signal or dataset is decomposed into orthogonal modes ranked by singular values (importance). However, SVD is purely data-driven and does not leverage physics equations.\n",
    "\n",
    "In MHD, plasma behavior is decomposed into eigenmodes, which represent different instability structures or wave patterns. MHD modes come from solving plasma physics equations and are not data-driven.\n",
    "\n"
   ]
  },
  {
   "cell_type": "markdown",
   "metadata": {},
   "source": [
    "## MHD equations\n",
    "$$\n",
    "\\begin{align}\n",
    "    \\frac{\\partial \\rho}{\\partial t} + \\nabla \\cdot (\\rho \\mathbf{V}) &= 0, && \\text{Mass Continuity Eq.} \\\\[8pt]\n",
    "    \\frac{d}{dt} \\left( \\frac{P}{\\rho^\\gamma} \\right) &= 0, && \\text{Energy Eq.} \\\\[8pt]\n",
    "    \\rho \\frac{d \\mathbf{V}}{dt} &= -\\nabla P - \\frac{1}{\\mu_0} \\mathbf{B} \\times (\\nabla \\times \\mathbf{B}), && \\text{Euler's Eq.} \\\\[8pt]\n",
    "    \\frac{\\partial \\mathbf{B}}{\\partial t} &= \\nabla \\times (\\mathbf{V} \\times \\mathbf{B}), && \\text{Induction Eq.}\n",
    "\\end{align}\n",
    "$$\n",
    "\n",
    "The magnetic field:\n",
    "\n",
    "$    \\nabla \\cdot \\mathbf{B} = 0$\n",
    "\n",
    "here all the symbol have their usual meaning. $B$ is magnetic field, $V$ is velocity, $P$ is pressure, $\\rho$ is density, $\\gamma$ is adiabatic index, $\\mu_0$ is magnetic permeability of free space, and $d/dt$ is the total derivative, $\\partial/\\partial t$ is the partial derivative and $\\nabla$ is the nabla operator."
   ]
  },
  {
   "cell_type": "markdown",
   "metadata": {},
   "source": [
    "Clearly the equation contains terms from Navier-Stokes equation and Maxwell's equation. As they are highly nonlinear, akin to other PDEs we linearise them using directional derivative which involves perturbing the variables and then linearising the equations. This a set of linear equations for the perturbations.\n",
    "\n",
    "### Start with Equilibrium\n",
    "Assume a steady-state solution where all time derivatives vanish:\n",
    "$ \\rho_0, \\mathbf{V}_0, P_0, \\mathbf{B}_0 $\n",
    "where subscript $0$ denotes equilibrium values.\n",
    "\n",
    "### Introduce Perturbations\n",
    "We introduce small perturbations around this equilibrium:\n",
    "$$\n",
    "\\rho = \\rho_0 + \\tilde{\\rho}, \\quad\n",
    "\\mathbf{V} = \\mathbf{V}_0 + \\tilde{\\mathbf{V}}, \\quad\n",
    "P = P_0 + \\tilde{P}, \\quad\n",
    "\\mathbf{B} = \\mathbf{B}_0 + \\tilde{\\mathbf{B}}\n",
    "$$\n",
    "\n",
    "where tilde terms $\\tilde{\\rho}$, $\\tilde{\\mathbf{V}}$, $\\tilde{P}$, $\\tilde{\\mathbf{B}}$ are small fluctuations.\n",
    "\n",
    "### Linearizing the MHD Equations\n",
    "* Substitute these perturbations into the ideal MHD equations.\n",
    "* Ignore nonlinear terms (e.g., $\\tilde{\\mathbf{V}} \\cdot \\nabla \\tilde{\\mathbf{V}}$).\n",
    "* This gives a set of linear equations for the perturbations.\n",
    "\n",
    "### Solve Using Fourier Analysis\n",
    "Assume solutions of the form:\n",
    "\n",
    "$\\tilde{f}(\\mathbf{x}, t) = \\hat{f} e^{i(\\mathbf{k} \\cdot \\mathbf{x} - \\omega t)}$\n",
    "\n",
    "where:\n",
    "\n",
    "* $\\mathbf{k}$ is the wavevector (direction of perturbation),\n",
    "* $\\omega $ is the frequency."
   ]
  },
  {
   "cell_type": "markdown",
   "metadata": {},
   "source": [
    "## Terms\n",
    "* Alfvén Modes: These are waves that propagate in the plasma due to the interaction between the plasma particles and the magnetic field. They can occur in various forms, such as shear Alfvén waves and compressional Alfvén waves, and can be driven by energetic particles.\n",
    "\n",
    "* Fishbone Modes: \tThese are specific instabilities that are often triggered by the interaction between the bulk plasma and energetic particles, such as those produced by neutral beam injection (NBI) in fusion experiments. The mode is called \"fishbone\" because of the characteristic shape it forms in certain diagnostic plots (e.g., frequency vs. time).\t\t\n",
    "\n",
    "* Beta-induced Alfvén modes (BAEs):  \tplasma instabilities that occur in high-beta conditions, driven by pressure gradients and the interaction with energetic particles, leading to oscillations that can affect particle confinement and energy transport in magnetically confined fusion plasmas.\n",
    "\n",
    "* Ellipticity Alfvén modes (EAEs): \tare influenced by the ellipticity of magnetic flux surfaces in a plasma,\t\t\t\n",
    "\n",
    "* Beta-induced Alfvén-acoustic modes (BAAEs): \tare low-frequency plasma instabilities that arise from the coupling of Alfvén waves and acoustic waves in high-beta plasmas, influenced by pressure gradients and energetic particles.\t\t\t\n",
    "\n",
    "* Reversed shear Alfvén eigenmodes (RSAEs): \tare instabilities that occur in plasmas with a reversed magnetic shear profile, driven by energetic particles and manifesting as oscillations localized around the minimum of the safety factor profile\t\t\t\n",
    "\n",
    "* Toroidal Alfvén eigenmodes (TAEs): \tplasma instabilities that occur when Alfvén waves resonate with the periodicity of a toroidal magnetic field in a fusion device\t\t\t"
   ]
  }
 ],
 "metadata": {
  "language_info": {
   "name": "python"
  }
 },
 "nbformat": 4,
 "nbformat_minor": 2
}
