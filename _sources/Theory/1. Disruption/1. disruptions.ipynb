{
 "cells": [
  {
   "cell_type": "markdown",
   "metadata": {},
   "source": [
    "# Basic concepts\n",
    "\n",
    "Fusion reactions require temperatures of 50-150 millions degree celsius temperature. No material can withstand direct contact with plasma at these temperatures without melting or vaporizing. Even the most heat-resistant materials, like tungsten, would fail almost instantly. Magnetic confinement allows containing the plasma without direct contact with a solid body. This is possible because plasma is an ionized gas, and therefore it is affected by magnetic fields.\n",
    "\n",
    "\n"
   ]
  },
  {
   "cell_type": "markdown",
   "metadata": {},
   "source": [
    "## Disruption\n",
    "\n",
    "Videos of disruption.\n",
    "\n",
    "<iframe width=\"560\" height=\"315\" src=\"https://www.youtube.com/embed/CUfR819hIDg?si=NCRMrx8IUtreHhbb\" title=\"YouTube video player\" frameborder=\"0\" allow=\"accelerometer; autoplay; clipboard-write; encrypted-media; gyroscope; picture-in-picture; web-share\" referrerpolicy=\"strict-origin-when-cross-origin\" allowfullscreen></iframe>\n",
    "\n",
    "\n",
    "<iframe width=\"560\" height=\"315\" src=\"https://www.youtube.com/embed/06t3idDwdcQ?si=ntEcmZZdDkWyk0rj\" title=\"YouTube video player\" frameborder=\"0\" allow=\"accelerometer; autoplay; clipboard-write; encrypted-media; gyroscope; picture-in-picture; web-share\" referrerpolicy=\"strict-origin-when-cross-origin\" allowfullscreen></iframe>\n",
    "\n",
    "Disruption is uncontrolled loss of plasma confinement. It is a very dangerous event, as it can cause damage to the reactor.\n",
    "\n",
    "## Typical Disruption\n",
    "Disruptions can be observed as follows:\n",
    "* Magnetic instability\n",
    "* Loss of plasma current\n",
    "* Loss of plasma density/ pressure\n",
    "* Loss of plasma shape or movement of plasma to the wall."
   ]
  },
  {
   "cell_type": "markdown",
   "metadata": {
    "vscode": {
     "languageId": "plaintext"
    }
   },
   "source": [
    "## Magnetic activity\n",
    "\n",
    "The following plot is taken from COMPASS Tokamak, operational in 1990s in the UKAEA. The plot is called a magnetic instability spectrum. On the x-axis time is measured in milliseconds (ms), showing how the plasma behavior evolves. One the y-axis, frequency of magnetic fluctuations is shown in kilohertz (kHz), representing oscillations in the magnetic field. The Red/yellow colour denotes strong magnetic activity or instabilities. See this plot as a scatter plot with a colormap not as a standard 2D plot.\n",
    "\n",
    "![Alt text](images/magnetic-instability.png)\n",
    "\n",
    "* Sudden Increase in Magnetic Activity\n",
    "* Around 1070 ms, there is a sudden increase in the magnetic activity across multiple frequencies. This suggests the growth of unstable modes in the plasma.\n",
    "* After 1070 ms, the spectrum becomes chaotic, signals the breakdown of magnetic confinement\n",
    "* Loss of Coherence: The magnetic field can no longer maintain the plasma's shape and position"
   ]
  },
  {
   "cell_type": "markdown",
   "metadata": {},
   "source": [
    "## Movement towards the wall\n",
    "![Alt text](images/disruption_EFIT_reconstruction.png)\n",
    "\n",
    "This EFIT reconstruction, a reconstruction of the plasma's magnetic equilibrium, shows signs of a plasma disruption, specifically the movement of the plasma column toward the wall. The black lines are magnetic flux surfaces, which describe the shape and position of the plasma within the reactor. Ideally, these surfaces are well-contained and concentric, staying centered in the reactor.\n",
    "\n",
    "The blue arrows indicate the movement of the plasma as it becomes unstable and shifts toward the wall of the reactor. The evolution shows the plasma shifting and distorting, losing its confinement.\n",
    "\n",
    "\n"
   ]
  },
  {
   "cell_type": "markdown",
   "metadata": {},
   "source": [
    "## Density and plasma current loss\n",
    "\n",
    "![Alt text](images/disruption_loss.png)\n",
    "\n",
    "The small rectangle (Lest 2 plots) is magnifying the region of disruption in the right two plots. \n",
    "\n",
    "Plot-1 (Top left)\n",
    "\n",
    "* Y-axis: Electron density, which measures how many electrons are present in the plasma per unit volume.\n",
    "* X-axis: Time in milliseconds (ms)\n",
    "\n",
    "Plot-2 (Bottom left)\n",
    "\n",
    "* Y-axis: Plasma current, which measures the flow of charged particles in the plasma.\n",
    "* X-axis: Time in milliseconds (ms)\n",
    "\n",
    "* Before the disruption, the electron density and plasma current is relatively stable or increasing.\n",
    "* After the disruption, the electron density and plasma current drop significantly, indicating a loss of particles and current in the plasma. This is because of the fact that plasma is moving out of the confinement region.\n"
   ]
  },
  {
   "cell_type": "markdown",
   "metadata": {},
   "source": [
    "## Timeline of disruption\n",
    "\n",
    "![Alt text](images/disruption_timeline.png)\n",
    "\n",
    "* In the green zone, the plasma is stable and well-confined. The plasma is in a good state, with no disruptions or instabilities.\n",
    "* In the blue zone, certain parameters (e.g., plasma current, density, or pressure) exceed their safe operating range, causing instabilities to form.\n",
    "* In the Yellow Zone, the plasma rapidly loses its thermal energy, releasing it into the reactor's walls and divertors.\n",
    "* In the red zone, the plasma current, which generates the confining magnetic field, drops sharply. It can cause severe mechanical and thermal stresses on the reactor."
   ]
  },
  {
   "cell_type": "markdown",
   "metadata": {},
   "source": []
  }
 ],
 "metadata": {
  "language_info": {
   "name": "python"
  }
 },
 "nbformat": 4,
 "nbformat_minor": 2
}
