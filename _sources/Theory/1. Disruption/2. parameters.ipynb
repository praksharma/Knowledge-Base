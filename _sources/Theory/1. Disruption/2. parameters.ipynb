{
 "cells": [
  {
   "cell_type": "markdown",
   "metadata": {},
   "source": [
    "# Parameters of interest\n",
    "There are a number of parameters that are needed to characterise the plasma's behavior, operational conditions, and evolving instabilities. These also change across various machines and detectors. Here are some of the parameters that are of interest:\n",
    "\n",
    "## Plasma parameters\n",
    "\n",
    "* **Plasma Current** $I_p$ : Total current flowing in the plasma.\n",
    "* **Loop Voltage** $V_{loop}$: Voltage driving the plasma current.\n",
    "* **Plasma Density** $n_e$: number of electrons are present in the plasma per unit volume.\n",
    "* **Plasma Temperature** : $T_e$ and $T_i$ are the electron and ion temperatures at core and edge respectively.\n",
    "* **Plasma Pressure** $p$ : Total pressure in the vessel.\n",
    "* **Normalized Beta** $\\beta_N$ : Ratio of plasma pressure to the magnetic pressure.\n",
    "* **Internal Inductance** $l_i$ : Describes the distribution of current within the plasma.\n",
    "* **Safety Factor** $q$ : We care about edge safety factor $q_{95}$ and central safety factor $q_{0}$.\n",
    "* **Energy Confinement Time** $\\tau_E$ : How long the plasma retains its energy.\n",
    "* **Magnetic Shear** : Describes the variation of the safety factor across the plasma radius."
   ]
  },
  {
   "cell_type": "markdown",
   "metadata": {},
   "source": [
    "## Magnetic equilibrium and stability\n",
    "* **Magnetic Flux Surfaces** : Data from equilibrium reconstruction (EFIT)\n",
    "* **Plasma Vertical Position** $Z_p$ : Used to detect vertical displacement events (VDEs).\n",
    "* **Plasma Shape** : Elongation $\\kappa$ and triangularity $\\delta$ of the plasma.\n",
    "* **Radial Position** $R_p$ : Location of the plasma centroid.\n",
    "* **Edge-Localized Modes (ELMs)** : Instabilities that can cause large bursts of energy and particles to be lost from the plasma.\n",
    "* **Tearing Modes** : Instabilities that can cause magnetic islands to form in the plasma. Mode numbers (e.g., m/n) and amplitudes.\n"
   ]
  },
  {
   "cell_type": "markdown",
   "metadata": {},
   "source": [
    "## Operational parameters\n",
    "* **Heating Power** $P_{heat}$ : Total power input from neutral beams to heat the plasma, radiofrequency heating, or ohmic heating.\n",
    "* **Toroidal Magnetic Field** $B_T$ : The magnetic field that wraps around the torus.\n",
    "* **Poloidal Magnetic Field** $B_P$ : Key for plasma shaping and stability.\n",
    "* **Gas Puffing Rate** : Rate at which gas is injected into the plasma.\n",
    "* **Divertor Conditions**: Heat flux, strike point position, and divertor detachment status."
   ]
  },
  {
   "cell_type": "markdown",
   "metadata": {},
   "source": [
    "## Diagnostic signals\n",
    "These signals provide real-time feedback on the plasma's behavior and are used to control the plasma and diagnose instabilities.\n",
    "\n",
    "* Magnetics:\n",
    "    * Mirnov coil signals (detects magnetic fluctuations).\n",
    "    * Magnetic fluctuation spectrograms.\n",
    "* Radiation:\n",
    "    * Total radiated power $P_{rad}$.\n",
    "    * Edge radiation (from impurities or disruptions).\n",
    "* Density Fluctuations:\n",
    "    * Reflectometry signals\n",
    "    * Interferometry signals\n",
    "* Soft X-ray Emission: Localized hot spots or disruptions.\n",
    "* Electron Cyclotron Emission (ECE): Measures electron temperature profiles and instabilities."
   ]
  },
  {
   "cell_type": "markdown",
   "metadata": {},
   "source": [
    "## Disruption indicators\n",
    "These parameters directly measure signs of instability or plasma degradation:\n",
    "* **Growth of Magnetic Islands**: Associated with tearing modes.\n",
    "* **Vertical Displacement Velocity (VDE)**: Speed of vertical motion of the plasma. $VDE = \\frac{dZ_p}{dt}$.\n",
    "* **Normalized Disruption Indicator (NDI)**: Ratio such as $\\beta_N/\\beta_{limit}$ or $q_{95}/q_{limit}$.\n",
    "* **Runaway electron signals**: Indicate the presence of runaway electrons in the plasma during disruptions.\n",
    "* **Edge Safety Factor Decrease**: Associated with MHD instabilities. $q_{edge}$. Need more info on this.\n"
   ]
  },
  {
   "cell_type": "markdown",
   "metadata": {},
   "source": [
    "## Machine-specific parameters\n",
    "* **Wall Conditions**: Temperature, impurity levels, and interaction with plasma.\n",
    "* Divertor and Scrape-Off Layer (SOL):\n",
    "    * Heat fluxes.\n",
    "    * Impurity levels.\n",
    "    * Detachment status.\n",
    "    * SOL density and temperature profiles.\n",
    "* **Neutral Beam Injection (NBI)**: Power, energy, and beam geometry."
   ]
  },
  {
   "cell_type": "markdown",
   "metadata": {},
   "source": [
    "## Temporal and historical data\n",
    "* **Temporal evolution**: How the plasma parameters change over time.  Derivatives or rolling averages of key parameters example, $\\dot{I}_p$, $\\dot{n}_e$.\n",
    "* **Past Disruption Data**: Information from previous disruptions can be used to train models to identify patterns."
   ]
  },
  {
   "cell_type": "markdown",
   "metadata": {},
   "source": [
    "## Next steps\n",
    "* Feature Engineering: Include both raw values and derived features. Not sure about this.\n",
    "* Data Sources: Use a combination of diagnostic signals, equilibrium reconstructions, and time-series data. There are some paper. Refer to OneNote annotations.\n",
    "* Real-Time Processing: hopefully."
   ]
  }
 ],
 "metadata": {
  "language_info": {
   "name": "python"
  }
 },
 "nbformat": 4,
 "nbformat_minor": 2
}
