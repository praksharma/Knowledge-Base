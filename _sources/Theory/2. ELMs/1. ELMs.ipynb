{
 "cells": [
  {
   "cell_type": "markdown",
   "metadata": {},
   "source": [
    "# Edge-localized mode (ELM)\n",
    "## Plasma instability\n",
    "Plasma instability refers to any disturbance or fluctuation in a plasma that grows over time and disrupts its equilibrium or ordered behavior. Instabilities can be driven by:\n",
    "* Current (e.g., too much current through the plasma column)\n",
    "* Pressure gradients (e.g., high pressure in the core vs. edge)\n",
    "* Magnetic field configuration (e.g., twisted field lines or bad confinement geometry)\n",
    "* Plasma rotation or flow (e.g., velocity shear)\n",
    "\n",
    "## L-mode (Low-confinement mode)\n",
    "* Default state of plasma when it's first heated and confined.\n",
    "* Energy and particles are lost quickly, especially at the edge of the plasma.\n",
    "* Lower plasma temperature and pressure.\n",
    "* Easier to maintain but not suitable for sustained fusion because of poor energy confinement.\n",
    "\n",
    "## H-mode (High-confinement mode)\n",
    "* Discovered in 1982 at ASDEX (Germany).\n",
    "* Achieved when input power crosses a threshold.\n",
    "* Plasma forms a transport barrier at the edge, called the edge pedestal.\n",
    "* This barrier reduces turbulence, and confinement improves sharply.\n",
    "* Higher temperature, pressure, and density at the core. essential for efficient fusion."
   ]
  },
  {
   "cell_type": "markdown",
   "metadata": {},
   "source": [
    "## L-H Transition\n",
    "* If you keep increasing the heating power in L-mode, the plasma can transition into H-mode.\n",
    "* This is a nonlinear, sudden change (like a phase transition).\n",
    "* H-mode is more unstable, prone to ELMs (Edge Localized Modes), which are mini-explosions at the edge that can damage reactor walls.\n",
    "\n",
    "![L-H Transition Diagram](images/dalpha.png)\n",
    "\n"
   ]
  },
  {
   "cell_type": "markdown",
   "metadata": {},
   "source": [
    "The top plot is Dα signal and bottom one is gradient plot.\n",
    "\n",
    "```python\n",
    "profiles = xr.open_zarr(store, group='spectrometer_visible')\n",
    "signal = profiles['filter_spectrometer_dalpha_voltage'].isel(dalpha_channel=1)\n",
    "```\n",
    "\n",
    "D-alpha refers to the spectral line emission from neutral deuterium atoms when electrons transition from the n = 3 → n = 2 energy level, probably, referring to Bohr's model.\n",
    "\n",
    "### Where does it come from in a tokamak?\n",
    "* Most of the plasma is ionized.\n",
    "* But at the edge, some neutral deuterium remains.\n",
    "* When hot electrons or ions from the plasma interact with these neutrals, they excite them.\n",
    "* When these neutrals relax (n=3 → n=2), they emit Dα photons.\n",
    "\n",
    "### What is shown in the plot?\n",
    "* Left side of the top plot (up to ~700–800 index): This is L-mode — the edge is turbulent, but there's no strong edge barrier and no large transient drops.\n",
    "* Somewhere between index 700–800:  LH transition\n",
    "* Between ~800 and ~1200: The regular spikes in the Dα signal indicates ELM.\n",
    "* Back transition (HL transition): Around ~1200, both plots flatten out."
   ]
  },
  {
   "cell_type": "markdown",
   "metadata": {},
   "source": [
    "## Edge-localized mode (ELM)\n",
    "* mini explosion or burst of energy and particles at the edge of the plasma.\n",
    "* plasma instability that occurs at the edge of the plasma in H-mode.\n",
    "* It's like the plasma periodically burping energy and particles from the edge.\n",
    "* Uncontrolled ELMs can:\n",
    "    * Damage divertor plates\n",
    "    * Reduce plasma confinement\n",
    "    * Potentially trigger other instabilities, such as the resistive wall mode (RWM) or the neoclassical tearing mode (NTM)."
   ]
  }
 ],
 "metadata": {
  "language_info": {
   "name": "python"
  }
 },
 "nbformat": 4,
 "nbformat_minor": 2
}
