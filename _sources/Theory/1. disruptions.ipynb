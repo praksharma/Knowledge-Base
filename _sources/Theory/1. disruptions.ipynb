{
 "cells": [
  {
   "cell_type": "markdown",
   "metadata": {},
   "source": [
    "# Magnetic confinement\n",
    "\n",
    "Fusion reactions require temperatures of 50-150 millions degree celsius temperature. No material can withstand direct contact with plasma at these temperatures without melting or vaporizing. Even the most heat-resistant materials, like tungsten, would fail almost instantly. Magnetic confinement allows containing the plasma without direct contact with a solid body. This is possible because plasma is an ionized gas, and therefore it is affected by magnetic fields."
   ]
  },
  {
   "cell_type": "code",
   "execution_count": null,
   "metadata": {
    "vscode": {
     "languageId": "plaintext"
    }
   },
   "outputs": [],
   "source": []
  }
 ],
 "metadata": {
  "language_info": {
   "name": "python"
  }
 },
 "nbformat": 4,
 "nbformat_minor": 2
}
