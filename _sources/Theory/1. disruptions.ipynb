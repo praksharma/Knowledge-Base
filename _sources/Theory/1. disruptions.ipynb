{
 "cells": [
  {
   "cell_type": "markdown",
   "metadata": {},
   "source": [
    "# Magnetic confinement\n",
    "\n",
    "Fusion reactions require temperatures of 50-150 millions degree celsius temperature. No material can withstand direct contact with plasma at these temperatures without melting or vaporizing. Even the most heat-resistant materials, like tungsten, would fail almost instantly. Magnetic confinement allows containing the plasma without direct contact with a solid body. This is possible because plasma is an ionized gas, and therefore it is affected by magnetic fields.\n",
    "\n",
    "\n"
   ]
  },
  {
   "cell_type": "markdown",
   "metadata": {
    "vscode": {
     "languageId": "plaintext"
    }
   },
   "source": [
    "The following plot is taken from COMPASS Tokamak, operational in 1990s in the UKAEA. The plot is called a magnetic instability spectrum. On the x-axis time is measured in milliseconds (ms), showing how the plasma behavior evolves. One the y-axis, frequency of magnetic fluctuations is shown in kilohertz (kHz), representing oscillations in the magnetic field. The Red/yellow colour denotes strong magnetic activity or instabilities. See this plot as a scatter plot with a colormap not as a standard 2D plot.\n",
    "\n",
    "![Alt text](images/magnetic-instability.png)\n",
    "\n",
    "## Signs of Disruption\n",
    "\n",
    "Disruptions in a fusion plasma occur when instabilities grow uncontrollably, leading to a loss of confinement and often damaging the reactor.\n",
    "\n",
    "* Sudden Increase in Magnetic Activity\n",
    "* Around 1070 ms, there is a sudden increase in the magnetic activity across multiple frequencies. This suggests the growth of unstable modes in the plasma.\n",
    "* After 1070 ms, the spectrum becomes chaotic, signals the breakdown of magnetic confinement\n",
    "* Loss of Coherence: The magnetic field can no longer maintain the plasma's shape and position"
   ]
  },
  {
   "cell_type": "markdown",
   "metadata": {},
   "source": [
    "# Movement towards the wall\n",
    "![Alt text](images/disruption_EFIT_reconstruction.png)\n",
    "\n",
    "This EFIT reconstruction, a reconstruction of the plasma's magnetic equilibrium, shows signs of a plasma disruption, specifically the movement of the plasma column toward the wall. The black lines are magnetic flux surfaces, which describe the shape and position of the plasma within the reactor. Ideally, these surfaces are well-contained and concentric, staying centered in the reactor.\n",
    "\n",
    "The blue arrows indicate the movement of the plasma as it becomes unstable and shifts toward the wall of the reactor. The evolution shows the plasma shifting and distorting, losing its confinement.\n",
    "\n",
    "\n"
   ]
  },
  {
   "cell_type": "markdown",
   "metadata": {},
   "source": [
    "# Disruption\n",
    "\n",
    "Videos of disruption.\n",
    "\n",
    "<iframe width=\"560\" height=\"315\" src=\"https://www.youtube.com/embed/CUfR819hIDg?si=NCRMrx8IUtreHhbb\" title=\"YouTube video player\" frameborder=\"0\" allow=\"accelerometer; autoplay; clipboard-write; encrypted-media; gyroscope; picture-in-picture; web-share\" referrerpolicy=\"strict-origin-when-cross-origin\" allowfullscreen></iframe>\n",
    "\n",
    "\n",
    "<iframe width=\"560\" height=\"315\" src=\"https://www.youtube.com/embed/06t3idDwdcQ?si=ntEcmZZdDkWyk0rj\" title=\"YouTube video player\" frameborder=\"0\" allow=\"accelerometer; autoplay; clipboard-write; encrypted-media; gyroscope; picture-in-picture; web-share\" referrerpolicy=\"strict-origin-when-cross-origin\" allowfullscreen></iframe>\n"
   ]
  },
  {
   "cell_type": "markdown",
   "metadata": {},
   "source": []
  },
  {
   "cell_type": "markdown",
   "metadata": {},
   "source": []
  },
  {
   "cell_type": "markdown",
   "metadata": {},
   "source": []
  }
 ],
 "metadata": {
  "language_info": {
   "name": "python"
  }
 },
 "nbformat": 4,
 "nbformat_minor": 2
}
