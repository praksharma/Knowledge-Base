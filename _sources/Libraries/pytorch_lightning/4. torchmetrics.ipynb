{
 "cells": [
  {
   "cell_type": "markdown",
   "id": "e0416a98",
   "metadata": {},
   "source": [
    "# PyTorch Lightning: calculating different metrics\n",
    "Torchmetrics is a library that provides a collection of metrics for PyTorch. These metrics do all the heavylifting for you. Here we will focus on:\n",
    "\n",
    "* per-class accuracy\n",
    "* precision/recall/F1\n",
    "* top-5 accuracy\n",
    "* confusion matrix"
   ]
  },
  {
   "cell_type": "code",
   "execution_count": 10,
   "id": "8df74b08",
   "metadata": {},
   "outputs": [],
   "source": [
    "import torch\n",
    "from torch import nn\n",
    "from torch.nn import functional as F\n",
    "from torch.utils.data import random_split, DataLoader\n",
    "from torchvision.datasets import MNIST\n",
    "from torchvision import transforms\n",
    "import lightning as L\n",
    "from lightning.pytorch.callbacks import ModelCheckpoint\n",
    "import torchmetrics # for metrics"
   ]
  },
  {
   "cell_type": "code",
   "execution_count": 11,
   "id": "4bf2809f",
   "metadata": {},
   "outputs": [],
   "source": [
    "class MNISTDataModule(L.LightningDataModule):\n",
    "    def __init__(self, batch_size=64):\n",
    "        super().__init__()\n",
    "        self.batch_size = batch_size\n",
    "        self.transform = transforms.ToTensor()\n",
    "\n",
    "    def prepare_data(self):\n",
    "        MNIST(root=\"./MNIST\", train=True, download=True)\n",
    "        MNIST(root=\"./MNIST\", train=True, download=True)\n",
    "    \n",
    "    def setup(self, stage=None):\n",
    "        if stage == \"fit\" or stage is None:\n",
    "            full = MNIST(root=\"./MNIST\", train=True, transform= self.transform)\n",
    "            self.train, self.val = random_split(full, [55000, 5000])\n",
    "        \n",
    "        if stage == \"test\" or stage is None:\n",
    "            self.test = MNIST(root=\"./MNIST\", train=False, transform= self.transform)\n",
    "    \n",
    "    def train_dataloader(self):\n",
    "        return DataLoader(self.train, batch_size= self.batch_size)\n",
    "    \n",
    "    def val_dataloader(self):\n",
    "        return DataLoader(self.val, batch_size= self.batch_size)\n",
    "    \n",
    "    def test_dataloader(self):\n",
    "        return DataLoader(self.test, batch_size= self.batch_size)"
   ]
  },
  {
   "cell_type": "code",
   "execution_count": 12,
   "id": "b67a3e76",
   "metadata": {},
   "outputs": [],
   "source": [
    "class LitModel(L.LightningModule): # a replacesment of nn.Module\n",
    "    def __init__(self):\n",
    "      super().__init__() # call __init__ of the super class to init important LightningModule functions\n",
    "      self.model = nn.Sequential(\n",
    "         nn.Flatten(),\n",
    "         nn.Linear(28*28, 128),\n",
    "         nn.ReLU(),\n",
    "         nn.Linear(128, 10)\n",
    "      )\n",
    "\n",
    "      self.train_acc = torchmetrics.classification.Accuracy(task=\"multiclass\", num_classes=10)\n",
    "      self.val_acc = torchmetrics.classification.Accuracy(task=\"multiclass\", num_classes=10)\n",
    "      self.test_acc = torchmetrics.classification.Accuracy(task=\"multiclass\", num_classes=10)\n",
    "\n",
    "      self.precision = torchmetrics.classification.MulticlassPrecision(num_classes=10, average='macro')\n",
    "      self.recall = torchmetrics.classification.MulticlassRecall(num_classes=10, average='macro')\n",
    "      self.f1 = torchmetrics.classification.MulticlassF1Score(num_classes=10, average='macro')\n",
    "\n",
    "      self.top5_acc = torchmetrics.classification.MulticlassAccuracy(num_classes=10, top_k=5)\n",
    "      self.confmat = torchmetrics.classification.MulticlassConfusionMatrix(num_classes=10) # not implemented\n",
    "\n",
    "    def forward(self, x):\n",
    "      return self.model(x)\n",
    "   \n",
    "    def training_step(self, batch, batch_idx):\n",
    "      x, y = batch\n",
    "      logits = self(x)\n",
    "      loss = F.cross_entropy(logits, y)\n",
    "      acc = self.train_acc(logits, y)\n",
    "\n",
    "      self.log(\"train_loss\", loss)\n",
    "      self.log(\"train_acc\", acc, prog_bar=True)\n",
    "      \n",
    "      #return loss\n",
    "      return {\"loss\": loss} #both are the same\n",
    "\n",
    "    def validation_step(self, batch, batch_idx):\n",
    "        x, y = batch\n",
    "        logits = self(x)\n",
    "        loss = F.cross_entropy(logits, y)\n",
    "        acc = self.val_acc(logits, y)\n",
    "        top5 = self.top5_acc(logits, y)\n",
    "        prec = self.precision(logits, y)\n",
    "        rec = self.recall(logits, y)\n",
    "        f1 = self.f1(logits, y)\n",
    "\n",
    "        self.log(\"val_loss\", loss, prog_bar=True) # prog_bar=False will not show the val loss in the training progress bar.\n",
    "        self.log(\"val_acc\", acc, prog_bar=True)\n",
    "        self.log(\"val_top5_acc\", top5)\n",
    "        self.log(\"val_precision\", prec)\n",
    "        self.log(\"val_recall\", rec)\n",
    "        self.log(\"val_f1\", f1)\n",
    "        \n",
    "    \n",
    "    def test_step(self, batch, batch_idx):\n",
    "        x, y = batch\n",
    "        logits = self(x)\n",
    "        loss = F.cross_entropy(logits, y)\n",
    "        acc = self.test_acc(logits, y)\n",
    "        top5 = self.top5_acc(logits, y)\n",
    "        prec = self.precision(logits, y)\n",
    "        rec = self.recall(logits, y)\n",
    "        f1 = self.f1(logits, y)\n",
    "\n",
    "\n",
    "        self.log(\"test_loss\", loss)\n",
    "        self.log(\"test_acc\", acc, prog_bar=True)\n",
    "        self.log(\"test_top5_acc\", top5)\n",
    "        self.log(\"test_precision\", prec)\n",
    "        self.log(\"test_recall\", rec)\n",
    "        self.log(\"test_f1\", f1)\n",
    "\n",
    "    def configure_optimizers(self):\n",
    "      return torch.optim.Adam(self.parameters(), lr=1e-3) # the NN get the parameters not self.model.parameters()"
   ]
  },
  {
   "cell_type": "code",
   "execution_count": 13,
   "id": "dbb0512f",
   "metadata": {},
   "outputs": [
    {
     "name": "stderr",
     "output_type": "stream",
     "text": [
      "GPU available: True (cuda), used: True\n",
      "TPU available: False, using: 0 TPU cores\n",
      "HPU available: False, using: 0 HPUs\n",
      "LOCAL_RANK: 0 - CUDA_VISIBLE_DEVICES: [0]\n",
      "\n",
      "  | Name      | Type                      | Params | Mode \n",
      "----------------------------------------------------------------\n",
      "0 | model     | Sequential                | 101 K  | train\n",
      "1 | train_acc | MulticlassAccuracy        | 0      | train\n",
      "2 | val_acc   | MulticlassAccuracy        | 0      | train\n",
      "3 | test_acc  | MulticlassAccuracy        | 0      | train\n",
      "4 | precision | MulticlassPrecision       | 0      | train\n",
      "5 | recall    | MulticlassRecall          | 0      | train\n",
      "6 | f1        | MulticlassF1Score         | 0      | train\n",
      "7 | top5_acc  | MulticlassAccuracy        | 0      | train\n",
      "8 | confmat   | MulticlassConfusionMatrix | 0      | train\n",
      "----------------------------------------------------------------\n",
      "101 K     Trainable params\n",
      "0         Non-trainable params\n",
      "101 K     Total params\n",
      "0.407     Total estimated model params size (MB)\n",
      "13        Modules in train mode\n",
      "0         Modules in eval mode\n"
     ]
    },
    {
     "name": "stdout",
     "output_type": "stream",
     "text": [
      "                                                                           "
     ]
    },
    {
     "name": "stderr",
     "output_type": "stream",
     "text": [
      "/home/hell/Desktop/lightning/.venv/lib/python3.12/site-packages/lightning/pytorch/trainer/connectors/data_connector.py:425: The 'val_dataloader' does not have many workers which may be a bottleneck. Consider increasing the value of the `num_workers` argument` to `num_workers=19` in the `DataLoader` to improve performance.\n",
      "/home/hell/Desktop/lightning/.venv/lib/python3.12/site-packages/lightning/pytorch/trainer/connectors/data_connector.py:425: The 'train_dataloader' does not have many workers which may be a bottleneck. Consider increasing the value of the `num_workers` argument` to `num_workers=19` in the `DataLoader` to improve performance.\n"
     ]
    },
    {
     "name": "stdout",
     "output_type": "stream",
     "text": [
      "Epoch 2: 100%|██████████| 860/860 [00:16<00:00, 50.92it/s, v_num=6, train_acc=1.000, val_loss=0.130, val_acc=0.962]"
     ]
    },
    {
     "name": "stderr",
     "output_type": "stream",
     "text": [
      "`Trainer.fit` stopped: `max_epochs=3` reached.\n"
     ]
    },
    {
     "name": "stdout",
     "output_type": "stream",
     "text": [
      "Epoch 2: 100%|██████████| 860/860 [00:16<00:00, 50.89it/s, v_num=6, train_acc=1.000, val_loss=0.130, val_acc=0.962]\n"
     ]
    }
   ],
   "source": [
    "# Datamodule\n",
    "dm = MNISTDataModule()\n",
    "# checkpoint based on val loss\n",
    "checkpoint_cb = ModelCheckpoint(monitor=\"val_loss\", mode=\"min\")\n",
    "\n",
    "# trainer\n",
    "model = LitModel()\n",
    "trainer = L.Trainer(max_epochs = 3,\n",
    "                    accelerator=\"auto\", # auto will select gpu if available\n",
    "                    callbacks=[checkpoint_cb]) \n",
    "trainer.fit(model, datamodule=dm)"
   ]
  },
  {
   "cell_type": "code",
   "execution_count": 14,
   "id": "54cce152",
   "metadata": {},
   "outputs": [
    {
     "name": "stderr",
     "output_type": "stream",
     "text": [
      "LOCAL_RANK: 0 - CUDA_VISIBLE_DEVICES: [0]\n",
      "/home/hell/Desktop/lightning/.venv/lib/python3.12/site-packages/lightning/pytorch/trainer/connectors/data_connector.py:425: The 'test_dataloader' does not have many workers which may be a bottleneck. Consider increasing the value of the `num_workers` argument` to `num_workers=19` in the `DataLoader` to improve performance.\n"
     ]
    },
    {
     "name": "stdout",
     "output_type": "stream",
     "text": [
      "Testing DataLoader 0: 100%|██████████| 157/157 [00:03<00:00, 48.08it/s]\n"
     ]
    },
    {
     "data": {
      "text/html": [
       "<pre style=\"white-space:pre;overflow-x:auto;line-height:normal;font-family:Menlo,'DejaVu Sans Mono',consolas,'Courier New',monospace\">┏━━━━━━━━━━━━━━━━━━━━━━━━━━━┳━━━━━━━━━━━━━━━━━━━━━━━━━━━┓\n",
       "┃<span style=\"font-weight: bold\">        Test metric        </span>┃<span style=\"font-weight: bold\">       DataLoader 0        </span>┃\n",
       "┡━━━━━━━━━━━━━━━━━━━━━━━━━━━╇━━━━━━━━━━━━━━━━━━━━━━━━━━━┩\n",
       "│<span style=\"color: #008080; text-decoration-color: #008080\">         test_acc          </span>│<span style=\"color: #800080; text-decoration-color: #800080\">    0.9656000137329102     </span>│\n",
       "│<span style=\"color: #008080; text-decoration-color: #008080\">          test_f1          </span>│<span style=\"color: #800080; text-decoration-color: #800080\">     0.961219847202301     </span>│\n",
       "│<span style=\"color: #008080; text-decoration-color: #008080\">         test_loss         </span>│<span style=\"color: #800080; text-decoration-color: #800080\">    0.11702169477939606    </span>│\n",
       "│<span style=\"color: #008080; text-decoration-color: #008080\">      test_precision       </span>│<span style=\"color: #800080; text-decoration-color: #800080\">    0.9657908082008362     </span>│\n",
       "│<span style=\"color: #008080; text-decoration-color: #008080\">        test_recall        </span>│<span style=\"color: #800080; text-decoration-color: #800080\">    0.9643090963363647     </span>│\n",
       "│<span style=\"color: #008080; text-decoration-color: #008080\">       test_top5_acc       </span>│<span style=\"color: #800080; text-decoration-color: #800080\">    0.9992062449455261     </span>│\n",
       "└───────────────────────────┴───────────────────────────┘\n",
       "</pre>\n"
      ],
      "text/plain": [
       "┏━━━━━━━━━━━━━━━━━━━━━━━━━━━┳━━━━━━━━━━━━━━━━━━━━━━━━━━━┓\n",
       "┃\u001b[1m \u001b[0m\u001b[1m       Test metric       \u001b[0m\u001b[1m \u001b[0m┃\u001b[1m \u001b[0m\u001b[1m      DataLoader 0       \u001b[0m\u001b[1m \u001b[0m┃\n",
       "┡━━━━━━━━━━━━━━━━━━━━━━━━━━━╇━━━━━━━━━━━━━━━━━━━━━━━━━━━┩\n",
       "│\u001b[36m \u001b[0m\u001b[36m        test_acc         \u001b[0m\u001b[36m \u001b[0m│\u001b[35m \u001b[0m\u001b[35m   0.9656000137329102    \u001b[0m\u001b[35m \u001b[0m│\n",
       "│\u001b[36m \u001b[0m\u001b[36m         test_f1         \u001b[0m\u001b[36m \u001b[0m│\u001b[35m \u001b[0m\u001b[35m    0.961219847202301    \u001b[0m\u001b[35m \u001b[0m│\n",
       "│\u001b[36m \u001b[0m\u001b[36m        test_loss        \u001b[0m\u001b[36m \u001b[0m│\u001b[35m \u001b[0m\u001b[35m   0.11702169477939606   \u001b[0m\u001b[35m \u001b[0m│\n",
       "│\u001b[36m \u001b[0m\u001b[36m     test_precision      \u001b[0m\u001b[36m \u001b[0m│\u001b[35m \u001b[0m\u001b[35m   0.9657908082008362    \u001b[0m\u001b[35m \u001b[0m│\n",
       "│\u001b[36m \u001b[0m\u001b[36m       test_recall       \u001b[0m\u001b[36m \u001b[0m│\u001b[35m \u001b[0m\u001b[35m   0.9643090963363647    \u001b[0m\u001b[35m \u001b[0m│\n",
       "│\u001b[36m \u001b[0m\u001b[36m      test_top5_acc      \u001b[0m\u001b[36m \u001b[0m│\u001b[35m \u001b[0m\u001b[35m   0.9992062449455261    \u001b[0m\u001b[35m \u001b[0m│\n",
       "└───────────────────────────┴───────────────────────────┘\n"
      ]
     },
     "metadata": {},
     "output_type": "display_data"
    },
    {
     "data": {
      "text/plain": [
       "[{'test_loss': 0.11702169477939606,\n",
       "  'test_acc': 0.9656000137329102,\n",
       "  'test_top5_acc': 0.9992062449455261,\n",
       "  'test_precision': 0.9657908082008362,\n",
       "  'test_recall': 0.9643090963363647,\n",
       "  'test_f1': 0.961219847202301}]"
      ]
     },
     "execution_count": 14,
     "metadata": {},
     "output_type": "execute_result"
    }
   ],
   "source": [
    "trainer.test(model, datamodule=dm)"
   ]
  },
  {
   "cell_type": "code",
   "execution_count": null,
   "id": "c96bc811",
   "metadata": {},
   "outputs": [],
   "source": []
  }
 ],
 "metadata": {
  "kernelspec": {
   "display_name": ".venv",
   "language": "python",
   "name": "python3"
  },
  "language_info": {
   "codemirror_mode": {
    "name": "ipython",
    "version": 3
   },
   "file_extension": ".py",
   "mimetype": "text/x-python",
   "name": "python",
   "nbconvert_exporter": "python",
   "pygments_lexer": "ipython3",
   "version": "3.12.3"
  }
 },
 "nbformat": 4,
 "nbformat_minor": 5
}
