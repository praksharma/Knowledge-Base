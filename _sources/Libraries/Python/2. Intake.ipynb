{
 "cells": [
  {
   "cell_type": "markdown",
   "metadata": {},
   "source": [
    "# Intake \n",
    "Intake is a data cataloging system that allows you to access data from a variety of sources, such as CSV, Parquet, and SQL databases. Intake, provides a consistent API to access data from diverse sources (e.g., local files, S3 buckets, databases). It integrates with popular data science tools like Pandas, Dask, s3fs and Xarray.\n",
    "\n",
    "Use: Work with multiple datasets stored across different locations\n",
    "\n",
    "Here is their website: [link](https://intake.readthedocs.io/en/latest/quickstart.html)\n",
    "\n",
    "A full list of file types it can open is here: [link](https://intake.readthedocs.io/en/latest/api2.html#data-classes)"
   ]
  },
  {
   "cell_type": "markdown",
   "metadata": {},
   "source": [
    "## Intake-xarray \n",
    "\n",
    "Intake lacks the ability to load zarr, NetCDF, Rasterio, OPeNDAP. Intake-xarray is a plugin for the Intake library that allows you to load data into xarray containers. Xarray is a powerful library for working with labeled multi-dimensional arrays, commonly used in scientific and engineering applications. \n",
    "\n",
    "Although, zarr is excellent for handling array data, Intake-xarray provides additional tools and flexibility for managing and accessing a wide variety of data formats in a more organized and efficient manner.\n",
    "\n",
    "Documentation: [link](https://intake-xarray.readthedocs.io/en/stable/) "
   ]
  },
  {
   "cell_type": "markdown",
   "metadata": {},
   "source": [
    "## Intake-parquet \n",
    "\n",
    "Apache Parquet is a columnar storage file format designed for efficient data processing and storage. I need to learn more about them. \n",
    "\n",
    "Intake-parquet is a intake plugin to efficiently load and manage Parquet files within the Intake framework.\n",
    "\n",
    "Github repo: [link](https://github.com/intake/intake-parquet)"
   ]
  },
  {
   "cell_type": "markdown",
   "metadata": {},
   "source": [
    "## Use intake with MinIO\n",
    "### Create an Intake Catalog (`catalog.yml`)"
   ]
  },
  {
   "cell_type": "code",
   "execution_count": 3,
   "metadata": {},
   "outputs": [
    {
     "name": "stdout",
     "output_type": "stream",
     "text": [
      "sources:\n",
      "  dummy_data:\n",
      "    description: \"Dummy data for testing\"\n",
      "    driver: csv\n",
      "    args:\n",
      "      urlpath: \"s3://my-bucket-2/data/data.csv\"\n",
      "      storage_options:\n",
      "        key: \"minioadmin\"\n",
      "        secret: \"minioadmin\"\n",
      "        client_kwargs:\n",
      "          endpoint_url: \"http://localhost:9000\""
     ]
    }
   ],
   "source": [
    "!cat data/catalog.yaml\n"
   ]
  },
  {
   "cell_type": "markdown",
   "metadata": {},
   "source": [
    "### Load Data Using Intake"
   ]
  },
  {
   "cell_type": "code",
   "execution_count": 4,
   "metadata": {},
   "outputs": [
    {
     "name": "stdout",
     "output_type": "stream",
     "text": [
      "<Intake catalog: data>\n"
     ]
    }
   ],
   "source": [
    "import intake\n",
    "\n",
    "# Load the catalog\n",
    "\n",
    "catalog = intake.open_catalog('data/catalog.yaml')\n",
    "\n",
    "# List available datasets \n",
    "print(catalog)"
   ]
  },
  {
   "cell_type": "code",
   "execution_count": 5,
   "metadata": {},
   "outputs": [
    {
     "name": "stderr",
     "output_type": "stream",
     "text": [
      "/home/hell/anaconda3/lib/python3.9/site-packages/pandas/core/arrays/masked.py:60: UserWarning: Pandas requires version '1.3.6' or newer of 'bottleneck' (version '1.3.5' currently installed).\n",
      "  from pandas.core import (\n"
     ]
    },
    {
     "name": "stdout",
     "output_type": "stream",
     "text": [
      "      Name  Age      City\n",
      "0    Alice   25  New York\n",
      "1      Bob   30    London\n",
      "2  Charlie   35     Paris\n"
     ]
    }
   ],
   "source": [
    "# Access the dummy data\n",
    "dummy_data = catalog.dummy_data.read()\n",
    "\n",
    "print(dummy_data)"
   ]
  }
 ],
 "metadata": {
  "kernelspec": {
   "display_name": "base",
   "language": "python",
   "name": "python3"
  },
  "language_info": {
   "codemirror_mode": {
    "name": "ipython",
    "version": 3
   },
   "file_extension": ".py",
   "mimetype": "text/x-python",
   "name": "python",
   "nbconvert_exporter": "python",
   "pygments_lexer": "ipython3",
   "version": "3.9.16"
  }
 },
 "nbformat": 4,
 "nbformat_minor": 2
}
