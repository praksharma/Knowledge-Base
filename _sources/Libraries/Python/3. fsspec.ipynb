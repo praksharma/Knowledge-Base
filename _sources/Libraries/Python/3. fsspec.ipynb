{
 "cells": [
  {
   "cell_type": "markdown",
   "metadata": {},
   "source": [
    "# Filesystem spec (Fsspec)\n",
    "\n",
    "You can store data at so many places. Local, google drive, Amazon AWS etc. Filesystem Spec (fsspec) is a project to provide a unified pythonic interface to local, remote and embedded file systems and bytes storage. So, all we need is to provide credentials for each service.\n",
    "\n",
    "For usage purpose, their documentation is more than enough.\n",
    "\n",
    "Documentation: [link](https://filesystem-spec.readthedocs.io/en/latest/?badge=latest)"
   ]
  }
 ],
 "metadata": {
  "language_info": {
   "name": "python"
  }
 },
 "nbformat": 4,
 "nbformat_minor": 2
}
