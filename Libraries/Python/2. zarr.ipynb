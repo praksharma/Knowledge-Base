{
 "cells": [
  {
   "cell_type": "markdown",
   "metadata": {},
   "source": [
    "# Zarr\n",
    "\n",
    "Zarr is open standard, for storing large multidimensional arrays. It is designed cloud ready and random access by dividing the data into chunks. Influenced by HDF5, it can be contain metadata and grouped into named hierarchies, annotated with key value metadata alongside the array. \n",
    "\n",
    "* Has multiple compression options and levels built-in \n",
    "\n",
    "* Supports multiple backend data stores (zip, S3, etc.) \n",
    "\n",
    "* Can read and write data in parallel* in n-dimensional compressed chunks "
   ]
  },
  {
   "cell_type": "markdown",
   "metadata": {},
   "source": [
    "## Why use Zarr? \n",
    "\n",
    "csv, txt doesn’t store array with more than 3-dimensional arrays. .npy does but can't be scaled to larger-than-memory datasets or other situations in which you want to read and/or write in parallel. \n",
    "\n",
    "## Save NumPy Arrays with Zarr \n",
    "\n",
    "Instead save the numpy arrays with zarr.\n",
    "\n",
    "A very good tutorial: [link](https://freedium.cfd/https:/towardsdatascience.com/why-you-should-save-numpy-arrays-with-zarr-dabff4ae6c0c)"
   ]
  }
 ],
 "metadata": {
  "language_info": {
   "name": "python"
  }
 },
 "nbformat": 4,
 "nbformat_minor": 2
}
