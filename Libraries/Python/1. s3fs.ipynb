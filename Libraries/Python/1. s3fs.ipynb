{
 "cells": [
  {
   "cell_type": "markdown",
   "metadata": {},
   "source": [
    "# S3 file system\n",
    "\n",
    "S3 is a file storage service offered by Amazon AWS. Just like normal internet where URL is mapped to IP addresses via registers, S3 has its own address protocol. \n",
    "\n",
    "Here is an example of a S3 file hosted on AWS server. \n",
    "\n",
    "s3://mast/level1/shots/11695.zarr \n",
    "\n",
    " \n",
    "\n",
    "The s3fs python package sends a request to Amazon server and if the request is valid example, permissions, the file gets downloaded. \n",
    "\n",
    "A guide on basic usage of S3 using S3fs: [Link](https://medium.com/@akifmalik200/setting-up-s3fs-on-ubuntu-a-beginners-guide-to-mounting-s3-buckets-f84513cd6be4)\n",
    "\n",
    "Need to add more as I learn."
   ]
  }
 ],
 "metadata": {
  "language_info": {
   "name": "python"
  }
 },
 "nbformat": 4,
 "nbformat_minor": 2
}
