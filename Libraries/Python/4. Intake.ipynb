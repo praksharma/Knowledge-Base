{
 "cells": [
  {
   "cell_type": "markdown",
   "metadata": {},
   "source": [
    "# Intake \n",
    "\n",
    "Intake, as the name says, can intake or load a number of data types in python. So, you can open a bunch of things, such as npy, txt, jpg, csv, dat, yml etc. with a single library.\n",
    "\n",
    "Here is their website: [link](https://intake.readthedocs.io/en/latest/quickstart.html)\n",
    "\n",
    "A full list of file types it can open is here: [link](https://intake.readthedocs.io/en/latest/api2.html#data-classes)"
   ]
  },
  {
   "cell_type": "markdown",
   "metadata": {},
   "source": [
    "## Intake-xarray \n",
    "\n",
    "Intake lacks the ability to load zarr, NetCDF, Rasterio, OPeNDAP. Intake-xarray is a plugin for the Intake library that allows you to load data into xarray containers. Xarray is a powerful library for working with labeled multi-dimensional arrays, commonly used in scientific and engineering applications. \n",
    "\n",
    "Although, zarr is excellent for handling array data, Intake-xarray provides additional tools and flexibility for managing and accessing a wide variety of data formats in a more organized and efficient manner.\n",
    "\n",
    "Documentation: [link](https://intake-xarray.readthedocs.io/en/stable/) "
   ]
  },
  {
   "cell_type": "markdown",
   "metadata": {},
   "source": [
    "## Intake-parquet \n",
    "\n",
    "Apache Parquet is a columnar storage file format designed for efficient data processing and storage. I need to learn more about them. \n",
    "\n",
    "Intake-parquet is a intake plugin to efficiently load and manage Parquet files within the Intake framework.\n",
    "\n",
    "Github repo: [link](https://github.com/intake/intake-parquet)"
   ]
  }
 ],
 "metadata": {
  "language_info": {
   "name": "python"
  }
 },
 "nbformat": 4,
 "nbformat_minor": 2
}
