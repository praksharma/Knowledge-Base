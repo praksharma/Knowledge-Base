{
 "cells": [
  {
   "cell_type": "markdown",
   "id": "5a4cf7e6",
   "metadata": {},
   "source": [
    "# PyTorch Lightning: A minimal code\n",
    "This is minimal PL code to train a sequential model on MNIST. We are only using `lightning.LightningModule` and `lightning.Trainer`.\n",
    "\n",
    "* There is no validation step, so PL complains \n",
    "\n",
    "`You are using the plain ModelCheckpoint callback. Consider using LitModelCheckpoint which with seamless uploading to Model registry.` \n",
    "\n",
    "and later \n",
    "\n",
    "```\n",
    "You passed in a `val_dataloader` but have no `validation_step`. Skipping val loop.\n",
    "```\n",
    "\n",
    "* The checkpoint is stored from the last epoch as there is no validation step to determine the best model."
   ]
  },
  {
   "cell_type": "code",
   "execution_count": 24,
   "id": "12969cd6",
   "metadata": {},
   "outputs": [],
   "source": [
    "import torch\n",
    "from torch import nn\n",
    "from torch.nn import functional as F\n",
    "from torch.utils.data import DataLoader, random_split\n",
    "from torchvision.datasets import MNIST\n",
    "from torchvision import transforms\n",
    "import lightning as L"
   ]
  },
  {
   "cell_type": "code",
   "execution_count": 16,
   "id": "6bbc4e5b",
   "metadata": {},
   "outputs": [
    {
     "name": "stdout",
     "output_type": "stream",
     "text": [
      "Lightning version: 2.5.1\n",
      "GPU name: NVIDIA RTX A5000\n",
      "Torch version: 2.6.0+cu124\n",
      "CUDA is available: True\n"
     ]
    }
   ],
   "source": [
    "print(\"Lightning version:\", L.__version__)\n",
    "print(\"GPU name:\", torch.cuda.get_device_name(0) if torch.cuda.is_available() else \"No GPU available\")\n",
    "print(\"Torch version:\", torch.__version__)\n",
    "print(\"CUDA is available:\", torch.cuda.is_available())"
   ]
  },
  {
   "cell_type": "code",
   "execution_count": null,
   "id": "0688948b",
   "metadata": {},
   "outputs": [],
   "source": [
    "class LitModel(L.LightningModule): # a replacesment of nn.Module\n",
    "   def __init__(self):\n",
    "      super().__init__() # call __init__ of the super class to init important LightningModule functions\n",
    "      self.model = nn.Sequential(\n",
    "         nn.Flatten(),\n",
    "         nn.Linear(28*28, 128),\n",
    "         nn.ReLU(),\n",
    "         nn.Linear(128, 10)\n",
    "      )\n",
    "   \n",
    "   def forward(self, x):\n",
    "      return self.model(x)\n",
    "   \n",
    "   def training_step(self, batch, batch_idx):\n",
    "      x, y = batch\n",
    "      logits = self(x)\n",
    "      loss = F.cross_entropy(logits, y)\n",
    "      self.log(\"train_loss\", loss)\n",
    "      return loss\n",
    "   def configure_optimizers(self):\n",
    "      return torch.optim.Adam(self.parameters(), lr=1e-3) # the NN get the parameters not self.model.parameters()"
   ]
  },
  {
   "cell_type": "code",
   "execution_count": 28,
   "metadata": {},
   "outputs": [
    {
     "name": "stderr",
     "output_type": "stream",
     "text": [
      "100%|██████████| 9.91M/9.91M [00:00<00:00, 10.4MB/s]\n",
      "100%|██████████| 28.9k/28.9k [00:00<00:00, 290kB/s]\n",
      "100%|██████████| 1.65M/1.65M [00:00<00:00, 2.62MB/s]\n",
      "100%|██████████| 4.54k/4.54k [00:00<00:00, 8.96MB/s]\n"
     ]
    }
   ],
   "source": [
    "# Data\n",
    "transform = transforms.ToTensor()\n",
    "dataset = MNIST(root = \"./MNIST\", download = True, train = True, transform = transform)\n",
    "train_ds, val_ds = random_split(dataset, [55000, 5000])\n",
    "train_loader = DataLoader(train_ds, batch_size=64)\n",
    "val_loader = DataLoader(val_ds, batch_size=64)"
   ]
  },
  {
   "cell_type": "code",
   "execution_count": null,
   "id": "df749152",
   "metadata": {},
   "outputs": [
    {
     "name": "stderr",
     "output_type": "stream",
     "text": [
      "You are using the plain ModelCheckpoint callback. Consider using LitModelCheckpoint which with seamless uploading to Model registry.\n"
     ]
    },
    {
     "name": "stderr",
     "output_type": "stream",
     "text": [
      "GPU available: True (cuda), used: True\n",
      "TPU available: False, using: 0 TPU cores\n",
      "HPU available: False, using: 0 HPUs\n",
      "/home/hell/Desktop/lightning/.venv/lib/python3.12/site-packages/lightning/pytorch/trainer/connectors/logger_connector/logger_connector.py:76: Starting from v1.9.0, `tensorboardX` has been removed as a dependency of the `lightning.pytorch` package, due to potential conflicts with other packages in the ML ecosystem. For this reason, `logger=True` will use `CSVLogger` as the default logger, unless the `tensorboard` or `tensorboardX` packages are found. Please `pip install lightning[extra]` or one of them to enable TensorBoard support by default\n",
      "/home/hell/Desktop/lightning/.venv/lib/python3.12/site-packages/lightning/pytorch/trainer/configuration_validator.py:68: You passed in a `val_dataloader` but have no `validation_step`. Skipping val loop.\n",
      "You are using a CUDA device ('NVIDIA RTX A5000') that has Tensor Cores. To properly utilize them, you should set `torch.set_float32_matmul_precision('medium' | 'high')` which will trade-off precision for performance. For more details, read https://pytorch.org/docs/stable/generated/torch.set_float32_matmul_precision.html#torch.set_float32_matmul_precision\n",
      "LOCAL_RANK: 0 - CUDA_VISIBLE_DEVICES: [0]\n",
      "\n",
      "  | Name  | Type       | Params | Mode \n",
      "---------------------------------------------\n",
      "0 | model | Sequential | 101 K  | train\n",
      "---------------------------------------------\n",
      "101 K     Trainable params\n",
      "0         Non-trainable params\n",
      "101 K     Total params\n",
      "0.407     Total estimated model params size (MB)\n",
      "5         Modules in train mode\n",
      "0         Modules in eval mode\n",
      "/home/hell/Desktop/lightning/.venv/lib/python3.12/site-packages/lightning/pytorch/trainer/connectors/data_connector.py:425: The 'train_dataloader' does not have many workers which may be a bottleneck. Consider increasing the value of the `num_workers` argument` to `num_workers=19` in the `DataLoader` to improve performance.\n"
     ]
    },
    {
     "name": "stdout",
     "output_type": "stream",
     "text": [
      "Epoch 2: 100%|██████████| 860/860 [00:13<00:00, 65.77it/s, v_num=0]"
     ]
    },
    {
     "name": "stderr",
     "output_type": "stream",
     "text": [
      "`Trainer.fit` stopped: `max_epochs=3` reached.\n"
     ]
    },
    {
     "name": "stdout",
     "output_type": "stream",
     "text": [
      "Epoch 2: 100%|██████████| 860/860 [00:13<00:00, 65.73it/s, v_num=0]\n"
     ]
    }
   ],
   "source": [
    "# trainer\n",
    "model = LitModel()\n",
    "trainer = L.Trainer(max_epochs = 3, accelerator=\"auto\") # auto will select gpu if available\n",
    "trainer.fit(model, train_loader, val_loader)"
   ]
  }
 ],
 "metadata": {
  "kernelspec": {
   "display_name": ".venv",
   "language": "python",
   "name": "python3"
  },
  "language_info": {
   "codemirror_mode": {
    "name": "ipython",
    "version": 3
   },
   "file_extension": ".py",
   "mimetype": "text/x-python",
   "name": "python",
   "nbconvert_exporter": "python",
   "pygments_lexer": "ipython3",
   "version": "3.12.3"
  }
 },
 "nbformat": 4,
 "nbformat_minor": 5
}
