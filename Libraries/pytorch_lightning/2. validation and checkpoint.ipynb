{
 "cells": [
  {
   "cell_type": "markdown",
   "id": "03386d7d",
   "metadata": {},
   "source": [
    "# PyTorch Lightning: Validation and model evaluation\n",
    "* we are seeding everything in this example.\n",
    "* we are calculating the validation loss too. So we need to include that in our `LitModel` class."
   ]
  },
  {
   "cell_type": "code",
   "execution_count": 2,
   "id": "375d4e8d",
   "metadata": {},
   "outputs": [],
   "source": [
    "import torch\n",
    "from torch import nn\n",
    "from torch.nn import functional as F\n",
    "from torch.utils.data import DataLoader, random_split\n",
    "from torchvision.datasets import MNIST\n",
    "from torchvision import transforms\n",
    "import lightning as L\n",
    "from lightning.pytorch.callbacks import ModelCheckpoint"
   ]
  },
  {
   "cell_type": "code",
   "execution_count": null,
   "id": "653d8e13",
   "metadata": {},
   "outputs": [
    {
     "name": "stderr",
     "output_type": "stream",
     "text": [
      "Seed set to 123456\n"
     ]
    },
    {
     "name": "stdout",
     "output_type": "stream",
     "text": [
      "Lightning version: 2.5.1\n",
      "GPU name: NVIDIA RTX A5000\n",
      "Torch version: 2.6.0+cu124\n",
      "CUDA is available: True\n"
     ]
    },
    {
     "data": {
      "text/plain": [
       "123456"
      ]
     },
     "execution_count": 3,
     "metadata": {},
     "output_type": "execute_result"
    }
   ],
   "source": [
    "print(\"Lightning version:\", L.__version__)\n",
    "print(\"GPU name:\", torch.cuda.get_device_name(0) if torch.cuda.is_available() else \"No GPU available\")\n",
    "print(\"Torch version:\", torch.__version__)\n",
    "print(\"CUDA is available:\", torch.cuda.is_available())\n",
    "\n",
    "L.seed_everything(123456) # reproducibility"
   ]
  },
  {
   "cell_type": "code",
   "execution_count": null,
   "id": "1dbd20b1",
   "metadata": {},
   "outputs": [],
   "source": [
    "class LitModel(L.LightningModule): # a replacesment of nn.Module\n",
    "    def __init__(self):\n",
    "      super().__init__() # call __init__ of the super class to init important LightningModule functions\n",
    "      self.model = nn.Sequential(\n",
    "         nn.Flatten(),\n",
    "         nn.Linear(28*28, 128),\n",
    "         nn.ReLU(),\n",
    "         nn.Linear(128, 10)\n",
    "      )\n",
    "   \n",
    "    def forward(self, x):\n",
    "      return self.model(x)\n",
    "   \n",
    "    def training_step(self, batch, batch_idx):\n",
    "      x, y = batch\n",
    "      logits = self(x)\n",
    "      loss = F.cross_entropy(logits, y)\n",
    "      self.log(\"train_loss\", loss)\n",
    "      #return loss\n",
    "      return {\"loss\": loss} #both are the same\n",
    "\n",
    "    def validation_step(self, batch, batch_idx):\n",
    "        x, y = batch\n",
    "        logits = self(x)\n",
    "        loss = F.cross_entropy(logits, y)\n",
    "        self.log(\"val_loss\", loss, prog_bar=True) # prog_bar=False will not show the val loss in the training progress bar.\n",
    "\n",
    "    def configure_optimizers(self):\n",
    "      return torch.optim.Adam(self.parameters(), lr=1e-3) # the NN get the parameters not self.model.parameters()"
   ]
  },
  {
   "cell_type": "code",
   "execution_count": 10,
   "id": "cc2a3bf1",
   "metadata": {},
   "outputs": [],
   "source": [
    "# Data\n",
    "transform = transforms.ToTensor()\n",
    "dataset = MNIST(root = \"./MNIST\", download = True, train = True, transform = transform)\n",
    "train_ds, val_ds = random_split(dataset, [55000, 5000])\n",
    "train_loader = DataLoader(train_ds, batch_size=64)\n",
    "val_loader = DataLoader(val_ds, batch_size=64)"
   ]
  },
  {
   "cell_type": "code",
   "execution_count": 11,
   "id": "d2103457",
   "metadata": {},
   "outputs": [],
   "source": [
    "# checkpoint based on val loss\n",
    "checkpoint_cb = ModelCheckpoint(monitor=\"val_loss\", mode=\"min\")"
   ]
  },
  {
   "cell_type": "code",
   "execution_count": 12,
   "id": "cc176ef3",
   "metadata": {},
   "outputs": [
    {
     "name": "stderr",
     "output_type": "stream",
     "text": [
      "GPU available: True (cuda), used: True\n",
      "TPU available: False, using: 0 TPU cores\n",
      "HPU available: False, using: 0 HPUs\n",
      "LOCAL_RANK: 0 - CUDA_VISIBLE_DEVICES: [0]\n",
      "\n",
      "  | Name  | Type       | Params | Mode \n",
      "---------------------------------------------\n",
      "0 | model | Sequential | 101 K  | train\n",
      "---------------------------------------------\n",
      "101 K     Trainable params\n",
      "0         Non-trainable params\n",
      "101 K     Total params\n",
      "0.407     Total estimated model params size (MB)\n",
      "5         Modules in train mode\n",
      "0         Modules in eval mode\n"
     ]
    },
    {
     "name": "stdout",
     "output_type": "stream",
     "text": [
      "Epoch 2: 100%|██████████| 860/860 [00:14<00:00, 59.91it/s, v_num=2, val_loss=0.120]"
     ]
    },
    {
     "name": "stderr",
     "output_type": "stream",
     "text": [
      "`Trainer.fit` stopped: `max_epochs=3` reached.\n"
     ]
    },
    {
     "name": "stdout",
     "output_type": "stream",
     "text": [
      "Epoch 2: 100%|██████████| 860/860 [00:14<00:00, 59.87it/s, v_num=2, val_loss=0.120]\n"
     ]
    }
   ],
   "source": [
    "# trainer\n",
    "model = LitModel()\n",
    "trainer = L.Trainer(max_epochs = 3,\n",
    "                    accelerator=\"auto\", # auto will select gpu if available\n",
    "                    callbacks=[checkpoint_cb]) \n",
    "trainer.fit(model, train_loader, val_loader)"
   ]
  }
 ],
 "metadata": {
  "kernelspec": {
   "display_name": ".venv",
   "language": "python",
   "name": "python3"
  },
  "language_info": {
   "codemirror_mode": {
    "name": "ipython",
    "version": 3
   },
   "file_extension": ".py",
   "mimetype": "text/x-python",
   "name": "python",
   "nbconvert_exporter": "python",
   "pygments_lexer": "ipython3",
   "version": "3.12.3"
  }
 },
 "nbformat": 4,
 "nbformat_minor": 5
}
