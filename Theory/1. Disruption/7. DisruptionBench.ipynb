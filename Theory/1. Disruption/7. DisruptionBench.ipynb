{
 "cells": [
  {
   "cell_type": "markdown",
   "metadata": {},
   "source": [
    "# Disruption Bench\n",
    "\n",
    "Paper title: DisruptionBench: A robust benchmarking framework for machine learning-driven disruption prediction\n",
    "\n",
    "* Link: https://europepmc.org/article/ppr/ppr840388\n",
    "* Github: https://github.com/lucas-spangher-1/evaluation_class_disruption_prediction\n",
    "\n",
    "## Introduction\n",
    "* Plasma discharges in tokamaks currently suffer from plasma disruptions, or loss of plasma stability.\n",
    "* Disruptions deposit large amounts of heat and stress loads on the plasma facing components (PFCs), reducing their lifetime.\n",
    "* Disruption arises from heterogeneous causes. Meaning they don't always arise from the same sequence of events, or the there is no single cause for disruptions.\n",
    "\n",
    "Disruption can be caused by:\n",
    "* MHD instabilities like tearing modes or vertical displacement events (VDEs)\n",
    "* Operational limits being exceeded (density, current, etc.)\n",
    "* Hardware issues or control system failures,\n",
    "* Or combinations of minor effects stacking up over time.\n",
    "\n",
    "We can use ML models to predict disruption while a discharge is going on. The model should give us enough time to carry out mitigation steps to control further damage. Here are different ways mitigation approaches:\n",
    "* Injection of nobel gases such as Neon or Argon, which reduces the thermal loads.\n",
    "* Firing a pellet of frozen hydrogen to cool the plasma.\n",
    "\n",
    "The idea of the paper is:\n",
    "* Real time, generalised model for disruption prediction.\n",
    "* Model comparison. They are comparing different models to see which one is the best.\n",
    "    * Top model had a AUC of 0.97 and F2 score of 0.89.\n",
    "* Exploratory Insights: \n",
    "    * sample rate dependence. Some models use use them and some don't.\n",
    "    * Long term memory: Except transformers, all models have some form of long term memory and limited data context.\n",
    "\n",
    "### Long term problems\n",
    "* Using probabilistic models to gain a better theoretical understanding of the tokamak plasma dynamics.\n",
    "* Uncovering causal mechanisms behind the tokamak plasma dynamics including those leading to disruptions.\n",
    "* Moving from prediction to control : building systems that not only shut down a plasma discharge, but prolong and continue its progress while avoiding disruption."
   ]
  },
  {
   "cell_type": "markdown",
   "metadata": {},
   "source": [
    "## Problems with existing ML techniques\n",
    "* Evaluation approches are not standardised.\n",
    "    * Some papers use an end of discharge AUC classification.\n",
    "    * Some use hysteresis type evaluation but have not made their code public.\n",
    "* State-of-the-art systems are not accurate enough for real world use-cases.\n",
    "    * Most of them reach 90% True Positive Rate (TPR).\n",
    "    * Next generation devices will require models to reach 95% TPR at a 5% FPR.\n",
    "* Models are not tested across multiple tokamaks.\n",
    "    * Simply because data is not available.\n",
    "    * Lack of zero shot transfer learning.\n",
    "    * state of the art models drop to ∼77% TPR at 5% FPR when considering zero-shot transfer metrics.\n",
    "* Prior models are dependent on a tokamak’s unique sampling rate.\n",
    "    * This is due to the use of different diagnostic systems.\n",
    "* The memory within a tokamak plasma is poorly understood.\n",
    "    * how much data context should we explicitly show our models when asking them to make decisions about a plasma state seconds away from its start.\n",
    "* Dataset size\n",
    "    * No one has ever used big data."
   ]
  },
  {
   "cell_type": "markdown",
   "metadata": {},
   "source": [
    "## DisruptionBench Framework\n",
    "* Goal: Predict if a plasma discharge will end in a disruption.\n",
    "* Input: A time series x of length t, where each point is a vector of k measurements (like magnetic field, current, etc.).\n",
    "* Output: At each time step, the model predicts the probability of a disruption happening in the future:\n",
    "\n",
    "$$\\mathcal{p}(y|x_0, ..., x_i) \\forall i \\in t$$\n",
    "\n",
    "### Disruption Mitigation System (DMS)\n",
    "It mimics how real-world tokamaks decide when to intervene. This involves:\n",
    "* High threshold: If the predicted disruption probability is above this, a \"warning\" is triggered.\n",
    "* Low threshold: If the prediction falls below this, the warning is cleared.\n",
    "* Hysteresis: Helps avoid frequent on-off toggling — the model must sustain high probability for several steps before declaring a disruption.\n",
    "\n",
    "![image.png](images/disruption_bench_fig1.png)\n",
    "\n",
    "Left plot (False Alarm Avoided):\n",
    "* The disruptivity crosses the high threshold and system starts counting.\n",
    "* But before it meets the hysteresis requirement (i.e., staying above for long enough), it dips below the low threshold, causing a reset.\n",
    "* So no alarm is triggered — the model had doubts.\n",
    "\n",
    "Right Plot (True Alarm Triggered):\n",
    "* The model's output rises and stays confidently above the high threshold.\n",
    "* The hysteresis system counts enough consecutive high predictions\n",
    "* The alarm is officially triggered.\n",
    "\n",
    "### True and false positives and negatives\n",
    "\n",
    "![image.png](images/disruption_bench_fig2.png)\n",
    "\n",
    "* `t_alarm`: Time the alarm is triggered by the model.\n",
    "* `t_disrupt`: Actual time of disruption (if it happens).\n",
    "* `t_end`: End of the pulse (used in non-disruptive shots).\n",
    "* `Δt_req`: Required lead time, set by us, representing how early we want the warning before a disruption.\n",
    "* `Δt_warn`: Actual warning time given by the model.\n",
    "\n",
    "$$Δt_{warn} = t_{disrupt} - t_{alarm}$$\n",
    "\n",
    "We only want true positive and true negative. False positive and false negative are not useful.\n",
    "\n",
    "#### Calculation of TPR and FPR\n",
    "* If an alarm is triggered before $T_{useful}$ , it is classified as a true positive. If not, it is a false negative.\n",
    "* For non disruptive discharges, if an alarm is ever triggered, it is recorded as a false positive. Else, it is a true negative."
   ]
  },
  {
   "cell_type": "markdown",
   "metadata": {},
   "source": [
    "## Dataset stats\n",
    "| Tokamak       | τ (Warning Time) | Number of Discharges | Avg. Discharge Length | Sampling Rate |\n",
    "|---------------|------------------|--------------|------------------------|----------------|\n",
    "| Alcator C-Mod | 50 ms            | 4,510        | 0.52 s                 | 5 ms           |\n",
    "| DIII-D        | 150 ms           | 8,608        | 3.7 s                  | 25 ms          |\n",
    "| EAST          | 400 ms           | 14,347       | 5.3 s                  | 100 ms         |\n",
    "\n",
    "\n",
    "* τ is defined as the length of time before the end of a disrupted shot after which the discharge is assumed to be in a disruptive state.\n",
    "* Shots smaller than 125ms were discarded.\n",
    "* Discretised all time series to a uniform 5 ms grid.\n",
    "* Using forward-fill interpolation.\n",
    "* They chop off the last 40 ms from each shot during training:\n",
    "    *  It gives the model time to predict before the disruption hits and not focus on post disruption behaviour."
   ]
  },
  {
   "cell_type": "markdown",
   "metadata": {},
   "source": [
    "### Forwards Fill Interpolation\n",
    "* If a value is missing, it is filled with the last known value.\n",
    "\n",
    "here is a simple example in pandas:"
   ]
  },
  {
   "cell_type": "code",
   "execution_count": 1,
   "metadata": {},
   "outputs": [
    {
     "name": "stdout",
     "output_type": "stream",
     "text": [
      "      Value\n",
      "Time       \n",
      "0       1.0\n",
      "25      1.0\n",
      "50      1.0\n",
      "75      1.0\n",
      "100     1.3\n",
      "125     1.3\n",
      "150     1.3\n",
      "175     1.3\n",
      "200     1.7\n"
     ]
    }
   ],
   "source": [
    "import pandas as pd\n",
    "\n",
    "# Original sparse data (say from EAST at 100 ms)\n",
    "data = {\n",
    "    'Time': [0, 100, 200],  # in milliseconds\n",
    "    'Value': [1.0, 1.3, 1.7]\n",
    "}\n",
    "\n",
    "# Convert to TimedeltaIndex so we can resample\n",
    "df = pd.DataFrame(data)\n",
    "df['Time'] = pd.to_timedelta(df['Time'], unit='ms')\n",
    "df = df.set_index('Time')\n",
    "\n",
    "# Now resample to 25ms intervals\n",
    "df_upsampled = df.resample('25ms').asfreq()\n",
    "\n",
    "# Fill missing values using forward fill\n",
    "df_filled = df_upsampled.ffill()\n",
    "\n",
    "df_filled.index = df_filled.index.total_seconds() * 1000  # convert back to ms. By default it is days hh:mm:ss.ssssss\n",
    "df_filled.index = df_filled.index.astype(int)\n",
    "print(df_filled)"
   ]
  },
  {
   "cell_type": "markdown",
   "metadata": {},
   "source": [
    "### Outlier Handling via Clipping\n",
    "* Clip the bottom 1% and top 1% of each signal (feature-wise).\n",
    "* If a value < 1st percentile → set it to 1st percentile value.\n",
    "* If a value > 99th percentile → set it to 99th percentile value.\n",
    "* Tokamak sensors sometimes spike due to noise or glitches, no need to let those dominate learning.\n",
    "\n",
    "#### QuantileTransformer\n",
    "* After clipping, they apply a quantile transformation to each feature.\n",
    "* maps the clipped data to a uniform or Gaussian distribution, ensuring:\n",
    "    * No outliers.\n",
    "    * Smooth gradients\n",
    "    * No feature dominates the learning process.\n",
    "* For each diagnostic signal (feature), they aggregate all values from all shots, then clip at the 1st and 99th percentiles.\n",
    "* So when we plot box plot the shape of the variable to be plotted is [num_total_time_points_across_all_shots, num_features].\n",
    "* We can use `sklearn.preprocessing.QuantileTransformer`."
   ]
  },
  {
   "cell_type": "markdown",
   "metadata": {},
   "source": [
    "### Missing values\n",
    "* The amount of missing values in disruptions vs non-disruptions were fairly different, with roughly twice as many missing values present in disruptions.\n",
    "* forward fill interpolation was used to fill in missing values.\n",
    "\n",
    "* **TIME was used as a feature\"**\n",
    "\n",
    "### Uneven Sampling Before Disruptions\n",
    "The dataset released by Zhu et al. has a quirk:\n",
    "* Right before a disruption, the sampling rate increases — like going from 20 ms intervals to 10 ms or faster — but this doesn’t happen before non-disruptive shots.\n",
    "* It's because of how the physics equilibrium solver is set up in the tokamak.\n",
    "* ML model might learn to associate “high sampling rate” with disruptions, not physics.\n"
   ]
  },
  {
   "cell_type": "markdown",
   "metadata": {},
   "source": [
    "### Modelling\n",
    "* The problem is a sequence-label prediction. That is, we predict single binary integer given a series of observed features.\n",
    "\n",
    "![image.png](images/disruption_bench_fig3.png)"
   ]
  },
  {
   "cell_type": "markdown",
   "metadata": {},
   "source": [
    "* They sampled overlapping time windows, resulting in significant increase in the number of samples/ input sequence.\n",
    "* They are using features and labels from the same time step in the time window.\n",
    "\n",
    "### The τ Trick\n",
    "This is not a trick but a simple $T_{lead}$ or $\\tau$. Which is used to label the data with disruptive labels starting from $T_{disrupt} - \\tau$.\n",
    "\n",
    "* Only allow time windows with length smaller than half of number of points in between `t_disruption - t_lead` and `t_disruption`.\n",
    "* If a window ends just before `t_disruption - t_lead`, then the earliest point in that window is still well outside the danger zone. They don't mention the windows size in the paper, so we may never know. \n",
    "\n",
    "\n"
   ]
  },
  {
   "cell_type": "markdown",
   "metadata": {},
   "source": [
    "## Results\n",
    "* This is the main wandb project page: https://wandb.ai/lucas-spangher/HDL-improvement-transformer\n",
    "* Sweep results: https://wandb.ai/lucas-spangher/HDL-improvement-transformer/table?nw=nwuserlucasspangher\n",
    "* Reports: https://wandb.ai/lucas-spangher/HDL-improvement-transformer/reportlist"
   ]
  },
  {
   "cell_type": "markdown",
   "metadata": {},
   "source": []
  },
  {
   "cell_type": "markdown",
   "metadata": {},
   "source": []
  },
  {
   "cell_type": "markdown",
   "metadata": {},
   "source": [
    "## Metrics\n",
    "* AUC-ROC: Area under the receiver operating characteristic curve.\n",
    "* F2 score: A weighted average of precision and recall. It is used to give more importance to recall than precision.\n",
    "* True Positive Rate (TPR): The ratio of true positives to the sum of true positives and false negatives.\n",
    "* False Positive Rate (FPR): The ratio of false positives to the sum of false positives and true negatives. "
   ]
  }
 ],
 "metadata": {
  "kernelspec": {
   "display_name": ".venv",
   "language": "python",
   "name": "python3"
  },
  "language_info": {
   "codemirror_mode": {
    "name": "ipython",
    "version": 3
   },
   "file_extension": ".py",
   "mimetype": "text/x-python",
   "name": "python",
   "nbconvert_exporter": "python",
   "pygments_lexer": "ipython3",
   "version": "3.12.2"
  }
 },
 "nbformat": 4,
 "nbformat_minor": 2
}
