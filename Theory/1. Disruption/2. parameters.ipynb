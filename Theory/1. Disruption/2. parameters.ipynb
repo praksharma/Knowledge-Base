{
 "cells": [
  {
   "cell_type": "markdown",
   "metadata": {},
   "source": [
    "# MAST diagnostic data\n",
    "In an experimental campaign, the experiment is conducted on a set of input parameters. A single instance is called a \"shot\", usually denoted by a \"Shot ID\".\n",
    "\n",
    "* Each shot contains multiple diagnostic sources. In MAST these were split into signals and images."
   ]
  }
 ],
 "metadata": {
  "language_info": {
   "name": "python"
  }
 },
 "nbformat": 4,
 "nbformat_minor": 2
}
