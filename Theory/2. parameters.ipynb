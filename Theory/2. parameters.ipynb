{
 "cells": [
  {
   "cell_type": "markdown",
   "metadata": {},
   "source": [
    "# Parameters of interest\n",
    "There are a number of parameters that are needed to characterise the plasma's behavior, operational conditions, and evolving instabilities. These also change across various machines and detectors. Here are some of the parameters that are of interest:\n",
    "\n",
    "## Plasma Parameters\n",
    "\n",
    "* **Plasma Current** $I_p$ : Total current flowing in the plasma.\n",
    "* **Loop Voltage** $V_{loop}$: Voltage driving the plasma current.\n",
    "* **Plasma Density** $n_e$: number of electrons are present in the plasma per unit volume.\n",
    "* **Plasma Temperature** : $T_e$ and $T_i$ are the electron and ion temperatures at core and edge respectively.\n",
    "* **Plasma Pressure** $p$ : Total pressure in the vessel.\n",
    "* **Normalized Beta** $\\beta_N$ : Ratio of plasma pressure to the magnetic pressure.\n",
    "* **Internal Inductance** $l_i$ : Describes the distribution of current within the plasma.\n",
    "* **Safety Factor** $q$ : We care about edge safety factor $q_{95}$ and central safety factor $q_{0}$.\n",
    "* **Energy Confinement Time** $\\tau_E$ : How long the plasma retains its energy.\n",
    "* **Magnetic Shear** : Describes the variation of the safety factor across the plasma radius."
   ]
  },
  {
   "cell_type": "markdown",
   "metadata": {},
   "source": []
  },
  {
   "cell_type": "markdown",
   "metadata": {},
   "source": []
  },
  {
   "cell_type": "markdown",
   "metadata": {},
   "source": []
  },
  {
   "cell_type": "markdown",
   "metadata": {},
   "source": []
  }
 ],
 "metadata": {
  "language_info": {
   "name": "python"
  }
 },
 "nbformat": 4,
 "nbformat_minor": 2
}
