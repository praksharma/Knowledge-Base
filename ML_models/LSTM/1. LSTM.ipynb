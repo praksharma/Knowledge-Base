{
 "cells": [
  {
   "cell_type": "markdown",
   "metadata": {},
   "source": [
    "# Recurrent Neural Networks (RNNs)\n",
    "RNNs were a simple modification to feedforward NNs where output was fed back into the network. This is similar to skip connections in ResNet but in opposite direction.\n",
    "\n",
    "![image.png](images/RNN_basic.png)\n",
    "\n",
    "Later it was realised that adding a state can provide more context to the network. The state shares  some information from the previous time step to the current time step. \n",
    "\n",
    "![image.png](images/RNN_state.png)\n",
    "\n",
    "A simple RNN can be represented as\n",
    "\n",
    "![image.png](images/RNN_arch.png)\n",
    "\n",
    "The output is\n",
    "\n",
    "$y_t = \\phi(W_y h_t + c)$\n",
    "\n",
    "where, \n",
    "$h_t = f(x_t, h_{t-1})$\n",
    "\n",
    "Precisely,\n",
    "\n",
    "$h_t = \\phi(W_x x_t + W_h h_{t-1} + b)$"
   ]
  },
  {
   "cell_type": "markdown",
   "metadata": {},
   "source": [
    "A nice paper on RNN: https://proceedings.neurips.cc/paper_files/paper/2014/file/a14ac55a4f27472c5d894ec1c3c743d2-Paper.pdf\n",
    "\n",
    "## Input output types\n",
    "The output and inputs of an RNN can be of different lengths, facilitating different tasks.\n",
    "\n",
    "### 1. Sequence to Sequence (Seq2Seq) Models\n",
    "These are mainly used for time series data and machine translation.\n",
    "\n",
    "![image.png](images/seq2seq.png)\n",
    "\n",
    "### 2. Sequence to vector models\n",
    "When output is of a fixed length. Such as sentiment analysis or text classification.\n",
    "\n",
    "![image.png](images/seq2vec.png)\n",
    "\n",
    "### 3. Vector to sequence models\n",
    "When input is of fixed length and output is of variable length. Such as image captioning.\n",
    "\n",
    "![image.png](images/vec2seq.png)\n",
    "\n",
    "### 4. Encoder-Decoder models\n",
    "These are used for tasks where input and output are of different lengths. The encoder encodes the input and the decoder decodes it.\n",
    "\n",
    "![image.png](images/enc_dec.png)\n",
    "\n",
    "#### Further Reading\n",
    "* [Different configurations of RNN](https://en.wikipedia.org/wiki/Recurrent_neural_network#Configurations)\n",
    "* [Different architectures of RNN](https://en.wikipedia.org/wiki/Recurrent_neural_network#Architectures)\n"
   ]
  },
  {
   "cell_type": "markdown",
   "metadata": {},
   "source": [
    "## Modification to RNNs\n",
    "\n",
    "Later, the state was modified to become more complicated. Different types of RNNs use different ways to update the state, for example, Long Short Term Memory (LSTM) and Gated Recurrent Unit (GRU).The state is a cell, with gates like input, forgot and output. The input gate decides what information to store in the cell, the forget gate decides what information to throw away from the cell and the output gate decides what information to output from the cell.\n",
    "\n",
    "## Long Short Term Memory (LSTM)"
   ]
  },
  {
   "cell_type": "markdown",
   "metadata": {},
   "source": [
    "To account for context LTSM uses gates. The cell state is used to define the long term memory and the hidden state is used to define the short term memory. Both states are updated using the forget gate, input gate and output gate."
   ]
  },
  {
   "cell_type": "markdown",
   "metadata": {},
   "source": []
  },
  {
   "cell_type": "markdown",
   "metadata": {},
   "source": []
  },
  {
   "cell_type": "markdown",
   "metadata": {},
   "source": []
  },
  {
   "cell_type": "markdown",
   "metadata": {},
   "source": []
  },
  {
   "cell_type": "markdown",
   "metadata": {},
   "source": []
  },
  {
   "cell_type": "markdown",
   "metadata": {},
   "source": [
    "# Long short term memory\n",
    "later"
   ]
  }
 ],
 "metadata": {
  "language_info": {
   "name": "python"
  }
 },
 "nbformat": 4,
 "nbformat_minor": 2
}
